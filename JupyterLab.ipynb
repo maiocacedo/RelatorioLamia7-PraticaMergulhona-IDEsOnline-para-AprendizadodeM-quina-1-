{
 "cells": [
  {
   "cell_type": "markdown",
   "id": "bff652cf-3428-4cfe-aa0b-cf4af0ac546c",
   "metadata": {},
   "source": [
    "# Um outro Jupyter Notebook\n",
    "## Mais um belo Jupyter Notebook\n"
   ]
  },
  {
   "cell_type": "code",
   "execution_count": 1,
   "id": "8f75cffb-42f5-4c8e-8856-36365e3fd93e",
   "metadata": {},
   "outputs": [],
   "source": [
    "import numpy as np\n",
    "import pandas as pd"
   ]
  },
  {
   "cell_type": "code",
   "execution_count": 2,
   "id": "5c82f4cc-0ed2-4c15-a7e5-6cd6f747fe7a",
   "metadata": {},
   "outputs": [],
   "source": [
    "data = np.random.rand(5,5)\n"
   ]
  },
  {
   "cell_type": "code",
   "execution_count": 3,
   "id": "2de2d34a-2c76-462f-9e3c-b55c915f8386",
   "metadata": {},
   "outputs": [
    {
     "data": {
      "text/plain": [
       "array([[0.5554333 , 0.47114351, 0.75884954, 0.75679624, 0.66152006],\n",
       "       [0.57381628, 0.58833689, 0.1153196 , 0.64620683, 0.7835084 ],\n",
       "       [0.57198748, 0.09559055, 0.8504211 , 0.74747914, 0.64629112],\n",
       "       [0.94119807, 0.38777396, 0.12412193, 0.94675751, 0.27486081],\n",
       "       [0.36101361, 0.94562195, 0.94743764, 0.8837294 , 0.85107838]])"
      ]
     },
     "execution_count": 3,
     "metadata": {},
     "output_type": "execute_result"
    }
   ],
   "source": [
    "data"
   ]
  },
  {
   "cell_type": "code",
   "execution_count": 4,
   "id": "37f3eb25-f268-4156-86a4-35f7a9956c28",
   "metadata": {},
   "outputs": [],
   "source": [
    "df = pd.DataFrame(data=data, columns=['A', 'B', 'C',  'D', 'E'])"
   ]
  },
  {
   "cell_type": "code",
   "execution_count": 5,
   "id": "a0a54868-92b8-47fa-bcc0-a6834c9b3c38",
   "metadata": {},
   "outputs": [
    {
     "data": {
      "text/html": [
       "<div>\n",
       "<style scoped>\n",
       "    .dataframe tbody tr th:only-of-type {\n",
       "        vertical-align: middle;\n",
       "    }\n",
       "\n",
       "    .dataframe tbody tr th {\n",
       "        vertical-align: top;\n",
       "    }\n",
       "\n",
       "    .dataframe thead th {\n",
       "        text-align: right;\n",
       "    }\n",
       "</style>\n",
       "<table border=\"1\" class=\"dataframe\">\n",
       "  <thead>\n",
       "    <tr style=\"text-align: right;\">\n",
       "      <th></th>\n",
       "      <th>A</th>\n",
       "      <th>B</th>\n",
       "      <th>C</th>\n",
       "      <th>D</th>\n",
       "      <th>E</th>\n",
       "    </tr>\n",
       "  </thead>\n",
       "  <tbody>\n",
       "    <tr>\n",
       "      <th>0</th>\n",
       "      <td>0.555433</td>\n",
       "      <td>0.471144</td>\n",
       "      <td>0.758850</td>\n",
       "      <td>0.756796</td>\n",
       "      <td>0.661520</td>\n",
       "    </tr>\n",
       "    <tr>\n",
       "      <th>1</th>\n",
       "      <td>0.573816</td>\n",
       "      <td>0.588337</td>\n",
       "      <td>0.115320</td>\n",
       "      <td>0.646207</td>\n",
       "      <td>0.783508</td>\n",
       "    </tr>\n",
       "    <tr>\n",
       "      <th>2</th>\n",
       "      <td>0.571987</td>\n",
       "      <td>0.095591</td>\n",
       "      <td>0.850421</td>\n",
       "      <td>0.747479</td>\n",
       "      <td>0.646291</td>\n",
       "    </tr>\n",
       "    <tr>\n",
       "      <th>3</th>\n",
       "      <td>0.941198</td>\n",
       "      <td>0.387774</td>\n",
       "      <td>0.124122</td>\n",
       "      <td>0.946758</td>\n",
       "      <td>0.274861</td>\n",
       "    </tr>\n",
       "    <tr>\n",
       "      <th>4</th>\n",
       "      <td>0.361014</td>\n",
       "      <td>0.945622</td>\n",
       "      <td>0.947438</td>\n",
       "      <td>0.883729</td>\n",
       "      <td>0.851078</td>\n",
       "    </tr>\n",
       "  </tbody>\n",
       "</table>\n",
       "</div>"
      ],
      "text/plain": [
       "          A         B         C         D         E\n",
       "0  0.555433  0.471144  0.758850  0.756796  0.661520\n",
       "1  0.573816  0.588337  0.115320  0.646207  0.783508\n",
       "2  0.571987  0.095591  0.850421  0.747479  0.646291\n",
       "3  0.941198  0.387774  0.124122  0.946758  0.274861\n",
       "4  0.361014  0.945622  0.947438  0.883729  0.851078"
      ]
     },
     "execution_count": 5,
     "metadata": {},
     "output_type": "execute_result"
    }
   ],
   "source": [
    "df"
   ]
  },
  {
   "cell_type": "code",
   "execution_count": null,
   "id": "58ea0eba-ba83-4c12-8c77-4170c1430146",
   "metadata": {},
   "outputs": [],
   "source": []
  }
 ],
 "metadata": {
  "kernelspec": {
   "display_name": "Python 3 (ipykernel)",
   "language": "python",
   "name": "python3"
  },
  "language_info": {
   "codemirror_mode": {
    "name": "ipython",
    "version": 3
   },
   "file_extension": ".py",
   "mimetype": "text/x-python",
   "name": "python",
   "nbconvert_exporter": "python",
   "pygments_lexer": "ipython3",
   "version": "3.12.4"
  }
 },
 "nbformat": 4,
 "nbformat_minor": 5
}
